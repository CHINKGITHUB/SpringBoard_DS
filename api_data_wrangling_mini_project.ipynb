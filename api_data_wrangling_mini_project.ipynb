{
 "cells": [
  {
   "cell_type": "markdown",
   "metadata": {},
   "source": [
    "This exercise will require you to pull some data from the Qunadl API. Qaundl is currently the most widely used aggregator of financial market data."
   ]
  },
  {
   "cell_type": "markdown",
   "metadata": {},
   "source": [
    "As a first step, you will need to register a free account on the http://www.quandl.com website."
   ]
  },
  {
   "cell_type": "markdown",
   "metadata": {},
   "source": [
    "After you register, you will be provided with a unique API key, that you should store:"
   ]
  },
  {
   "cell_type": "code",
   "execution_count": 111,
   "metadata": {},
   "outputs": [],
   "source": [
    "# Store the API key as a string - according to PEP8, constants are always named in all upper case\n",
    "API_KEY = ''"
   ]
  },
  {
   "cell_type": "markdown",
   "metadata": {},
   "source": [
    "Qaundl has a large number of data sources, but, unfortunately, most of them require a Premium subscription. Still, there are also a good number of free datasets."
   ]
  },
  {
   "cell_type": "markdown",
   "metadata": {},
   "source": [
    "For this mini project, we will focus on equities data from the Frankfurt Stock Exhange (FSE), which is available for free. We'll try and analyze the stock prices of a company called Carl Zeiss Meditec, which manufactures tools for eye examinations, as well as medical lasers for laser eye surgery: https://www.zeiss.com/meditec/int/home.html. The company is listed under the stock ticker AFX_X."
   ]
  },
  {
   "cell_type": "markdown",
   "metadata": {},
   "source": [
    "You can find the detailed Quandl API instructions here: https://docs.quandl.com/docs/time-series"
   ]
  },
  {
   "cell_type": "markdown",
   "metadata": {},
   "source": [
    "While there is a dedicated Python package for connecting to the Quandl API, we would prefer that you use the *requests* package, which can be easily downloaded using *pip* or *conda*. You can find the documentation for the package here: http://docs.python-requests.org/en/master/ "
   ]
  },
  {
   "cell_type": "markdown",
   "metadata": {},
   "source": [
    "Finally, apart from the *requests* package, you are encouraged to not use any third party Python packages, such as *pandas*, and instead focus on what's available in the Python Standard Library (the *collections* module might come in handy: https://pymotw.com/3/collections/).\n",
    "Also, since you won't have access to DataFrames, you are encouraged to us Python's native data structures - preferably dictionaries, though some questions can also be answered using lists.\n",
    "You can read more on these data structures here: https://docs.python.org/3/tutorial/datastructures.html"
   ]
  },
  {
   "cell_type": "markdown",
   "metadata": {},
   "source": [
    "Keep in mind that the JSON responses you will be getting from the API map almost one-to-one to Python's dictionaries. Unfortunately, they can be very nested, so make sure you read up on indexing dictionaries in the documentation provided above."
   ]
  },
  {
   "cell_type": "code",
   "execution_count": 1,
   "metadata": {},
   "outputs": [],
   "source": [
    "# First, import the relevant modules\n",
    "import requests\n",
    "import json\n"
   ]
  },
  {
   "cell_type": "code",
   "execution_count": 2,
   "metadata": {},
   "outputs": [],
   "source": [
    "# Now, call the Quandl API and pull out a small sample of the data (only one day) to get a glimpse\n",
    "# into the JSON structure that will be returned\n",
    "r = requests.get(\"https://www.quandl.com/api/v3/datasets/FSE/EON_X?start_date=2018-11-08&end_date=2018-11-08&api_key=Lbmpxb6sxLNRdhkWEUiD\")"
   ]
  },
  {
   "cell_type": "code",
   "execution_count": 3,
   "metadata": {
    "scrolled": true
   },
   "outputs": [
    {
     "name": "stdout",
     "output_type": "stream",
     "text": [
      "{'dataset': {'id': 36592406, 'dataset_code': 'EON_X', 'database_code': 'FSE', 'name': 'E.on Se (EON_X)', 'description': 'Stock Prices for E.on Se (EON) from the Frankfurt Stock Exchange.<br><br>Trading System: Xetra<br><br>ISIN: DE000ENAG999', 'refreshed_at': '2018-11-21T22:32:57.032Z', 'newest_available_date': '2018-11-21', 'oldest_available_date': '2003-01-20', 'column_names': ['Date', 'Open', 'High', 'Low', 'Close', 'Change', 'Traded Volume', 'Turnover', 'Last Price of the Day', 'Daily Traded Units', 'Daily Turnover'], 'frequency': 'daily', 'type': 'Time Series', 'premium': False, 'limit': None, 'transform': None, 'column_index': None, 'start_date': '2018-11-08', 'end_date': '2018-11-08', 'data': [['2018-11-08', None, 8.819, 8.65, 8.696, None, 7785372.0, 67962186.0, None, None, None]], 'collapse': None, 'order': None, 'database_id': 6129}}\n"
     ]
    }
   ],
   "source": [
    "# Inspect the JSON structure of the object you created, and take note of how nested it is,\n",
    "# as well as the overall structure\n",
    "print(r.json())\n",
    "#Lbmpxb6sxLNRdhkWEUiD\n",
    "#rrv=vr.jss\n"
   ]
  },
  {
   "cell_type": "markdown",
   "metadata": {},
   "source": [
    "These are your tasks for this mini project:\n",
    "\n",
    "1. Collect data from the Franfurt Stock Exchange, for the ticker AFX_X, for the whole year 2017 (keep in mind that the date format is YYYY-MM-DD).\n",
    "2. Convert the returned JSON object into a Python dictionary.\n",
    "3. Calculate what the highest and lowest opening prices were for the stock in this period.\n",
    "4. What was the largest change in any one day (based on High and Low price)?\n",
    "5. What was the largest change between any two days (based on Closing Price)?\n",
    "6. What was the average daily trading volume during this year?\n",
    "7. (Optional) What was the median trading volume during this year. (Note: you may need to implement your own function for calculating the median.)"
   ]
  },
  {
   "cell_type": "code",
   "execution_count": 4,
   "metadata": {},
   "outputs": [],
   "source": [
    "#Collect data from the Franfurt Stock Exchange, for the ticker AFX_X, for the whole year 2017 \n",
    "#(keep in mind that the date format is YYYY-MM-DD).\n",
    "\n",
    "r2017 = requests.get(\"https://www.quandl.com/api/v3/datasets/FSE/EON_X?start_date=2017-01-01&end_date=2017-12-31&api_key=Lbmpxb6sxLNRdhkWEUiD\")\n"
   ]
  },
  {
   "cell_type": "code",
   "execution_count": 5,
   "metadata": {},
   "outputs": [
    {
     "name": "stdout",
     "output_type": "stream",
     "text": [
      "dict_keys(['id', 'dataset_code', 'database_code', 'name', 'description', 'refreshed_at', 'newest_available_date', 'oldest_available_date', 'column_names', 'frequency', 'type', 'premium', 'limit', 'transform', 'column_index', 'start_date', 'end_date', 'data', 'collapse', 'order', 'database_id'])\n"
     ]
    }
   ],
   "source": [
    "data = r2017.json()['dataset']\n",
    "print(data.keys())"
   ]
  },
  {
   "cell_type": "code",
   "execution_count": 6,
   "metadata": {},
   "outputs": [
    {
     "data": {
      "text/plain": [
       "dict"
      ]
     },
     "execution_count": 6,
     "metadata": {},
     "output_type": "execute_result"
    }
   ],
   "source": [
    "#Convert the returned JSON object into a Python dictionary.\n",
    "type(data)"
   ]
  },
  {
   "cell_type": "code",
   "execution_count": 7,
   "metadata": {},
   "outputs": [
    {
     "data": {
      "text/plain": [
       "['Date',\n",
       " 'Open',\n",
       " 'High',\n",
       " 'Low',\n",
       " 'Close',\n",
       " 'Change',\n",
       " 'Traded Volume',\n",
       " 'Turnover',\n",
       " 'Last Price of the Day',\n",
       " 'Daily Traded Units',\n",
       " 'Daily Turnover']"
      ]
     },
     "execution_count": 7,
     "metadata": {},
     "output_type": "execute_result"
    }
   ],
   "source": [
    "colname = data['column_names']\n",
    "colname"
   ]
  },
  {
   "cell_type": "code",
   "execution_count": 8,
   "metadata": {},
   "outputs": [],
   "source": [
    "openidx = colname.index('Open')"
   ]
  },
  {
   "cell_type": "code",
   "execution_count": 9,
   "metadata": {},
   "outputs": [
    {
     "data": {
      "text/plain": [
       "(10.75, 6.65)"
      ]
     },
     "execution_count": 9,
     "metadata": {},
     "output_type": "execute_result"
    }
   ],
   "source": [
    "#Calculate what the highest and lowest opening prices were for the stock in this period\n",
    "open_price = [row[openidx] for row in data['data'] ]\n",
    "max(open_price),min(open_price)"
   ]
  },
  {
   "cell_type": "code",
   "execution_count": 10,
   "metadata": {
    "scrolled": true
   },
   "outputs": [
    {
     "name": "stdout",
     "output_type": "stream",
     "text": [
      "['2017-12-29', 9.09, 9.12, 9.06, 9.06, None, 6460376.0, 58678823.0, None, None, None]\n",
      "['2017-12-28', 9.15, 9.16, 9.06, 9.08, None, 5767048.0, 52509707.0, None, None, None]\n",
      "['2017-12-27', 9.22, 9.28, 9.1, 9.15, None, 5746408.0, 52653378.0, None, None, None]\n",
      "['2017-12-22', 9.11, 9.29, 9.1, 9.21, None, 7136948.0, 65877661.0, None, None, None]\n",
      "['2017-12-21', 9.24, 9.28, 9.12, 9.16, None, 9590049.0, 88152723.0, None, None, None]\n",
      "['2017-12-20', 9.43, 9.52, 9.22, 9.24, None, 11120418.0, 103561432.0, None, None, None]\n",
      "['2017-12-19', 9.49, 9.5, 9.4, 9.4, None, 9705665.0, 91649218.0, None, None, None]\n",
      "['2017-12-18', 9.48, 9.52, 9.4, 9.46, None, 8325901.0, 78752663.0, None, None, None]\n",
      "['2017-12-15', 9.26, 9.44, 9.25, 9.39, None, 25076740.0, 234665258.0, None, None, None]\n",
      "['2017-12-14', 9.27, 9.5, 9.08, 9.18, None, 24704077.0, 229276312.0, None, None, None]\n"
     ]
    }
   ],
   "source": [
    "for row in data['data'][:10]:\n",
    "    print(row)\n",
    "    \n",
    "    "
   ]
  },
  {
   "cell_type": "code",
   "execution_count": 11,
   "metadata": {},
   "outputs": [
    {
     "data": {
      "text/plain": [
       "0.6999999999999993"
      ]
     },
     "execution_count": 11,
     "metadata": {},
     "output_type": "execute_result"
    }
   ],
   "source": [
    "#What was the largest change in any one day (based on High and Low price)?\n",
    "Highidx = colname.index('High')\n",
    "Lowidx = colname.index('Low')\n",
    "ChangeVal = [Changerow[Highidx] - Changerow[Lowidx] for Changerow in data['data']]\n",
    "max(ChangeVal)"
   ]
  },
  {
   "cell_type": "code",
   "execution_count": 16,
   "metadata": {
    "scrolled": true
   },
   "outputs": [
    {
     "name": "stdout",
     "output_type": "stream",
     "text": [
      "[9.06, 9.08, 9.15, 9.21, 9.16, 9.24, 9.4, 9.46, 9.39, 9.18, 9.22, 9.7, 9.64, 9.79, 9.76, 9.68, 9.76, 9.66, 9.61, 9.72, 9.85, 9.76, 9.7, 9.72, 9.74, 9.75, 9.82, 9.77, 9.78, 10.02, 9.91, 9.99, 10.1, 10.26, 10.41, 10.69, 10.55, 10.48, 10.37, 10.41, 10.39, 10.13, 10.08, 9.98, 9.8, 10.03, 10.03, 10.04, 10.0, 9.96, 10.04, 9.94, 9.99, 9.96, 9.86, 9.59, 9.69, 9.4, 9.51, 9.42, 9.69, 9.58, 9.36, 9.37, 9.32, 9.25, 9.31, 9.2, 9.46, 9.21, 9.21, 9.16, 9.21, 9.3, 9.45, 9.64, 9.58, 9.57, 9.4, 9.54, 9.57, 9.63, 9.5, 9.49, 9.41, 9.48, 9.46, 9.43, 9.37, 9.44, 9.4, 9.62, 9.6, 9.6, 9.53, 9.45, 9.26, 9.12, 9.23, 8.9, 8.75, 8.81, 8.52, 8.53, 8.55, 8.36, 8.26, 8.43, 8.38, 8.3, 8.34, 8.36, 8.46, 8.55, 8.49, 8.56, 8.57, 8.59, 8.59, 8.36, 8.43, 8.24, 8.08, 8.23, 8.27, 8.31, 8.25, 8.36, 8.57, 8.69, 8.96, 8.91, 9.03, 9.05, 9.06, 8.97, 8.84, 8.79, 8.82, 8.64, 8.66, 8.8, 8.79, 8.45, 8.05, 7.83, 7.78, 7.75, 7.58, 7.56, 7.54, 7.62, 7.65, 7.68, 7.39, 7.39, 7.17, 7.2, 7.28, 7.3, 7.21, 7.21, 7.4, 7.4, 7.09, 7.07, 7.15, 7.16, 7.25, 7.16, 7.12, 7.15, 7.23, 7.26, 7.17, 7.11, 7.12, 7.2, 7.28, 7.37, 7.38, 7.36, 7.39, 7.35, 7.3, 7.31, 7.4, 7.45, 7.3, 7.33, 7.31, 7.25, 7.26, 7.16, 7.1, 7.1, 7.15, 7.08, 6.83, 6.77, 7.02, 6.99, 7.03, 7.05, 7.11, 7.38, 7.55, 7.48, 7.46, 7.49, 7.33, 7.32, 7.14, 7.24, 7.2, 7.22, 7.14, 7.06, 7.13, 7.14, 7.16, 7.21, 7.08, 7.08, 6.98, 6.94, 6.9, 6.97, 7.04, 7.05, 7.1, 7.11, 7.28, 7.35, 7.35, 7.27, 7.32, 7.36, 7.31, 7.35, 7.24, 7.22, 7.17, 7.17, 7.0, 6.68, 6.64, 6.65, 6.71, 6.68, 6.73, 6.82]\n"
     ]
    }
   ],
   "source": [
    "#What was the largest change between any two days (based on Closing Price)?\n",
    "\n",
    "ClosePriidx = colname.index('Close')\n",
    "closediff = [lastPri[ClosePriidx] for lastPri in data['data'] ]\n",
    "#OpenPriidx = colname.index('Open')\n",
    "#twodayDiff = [lastPri[OpenPriidx] -lastPri[ClosePriidx] for lastPri in data['data']]\n",
    "#max(twodayDiff)\n",
    "print(closediff)"
   ]
  },
  {
   "cell_type": "code",
   "execution_count": 240,
   "metadata": {},
   "outputs": [
    {
     "data": {
      "text/plain": [
       "11708661.142857144"
      ]
     },
     "execution_count": 240,
     "metadata": {},
     "output_type": "execute_result"
    }
   ],
   "source": [
    "#What was the average daily trading volume during this year?\n",
    "Avgidx = colname.index('Traded Volume')\n",
    "AvgVol = [AvgTrad[Avgidx] for AvgTrad in data['data']]\n",
    "sum(AvgVol)/len(AvgVol)"
   ]
  },
  {
   "cell_type": "code",
   "execution_count": 241,
   "metadata": {},
   "outputs": [
    {
     "data": {
      "text/plain": [
       "10542121.0"
      ]
     },
     "execution_count": 241,
     "metadata": {},
     "output_type": "execute_result"
    }
   ],
   "source": [
    "#(Optional) What was the median trading volume during this year. (Note: you may need to implement your own function for calculating the median.)\n",
    "import statistics\n",
    "\n",
    "statistics.median(AvgVol)"
   ]
  },
  {
   "cell_type": "code",
   "execution_count": 242,
   "metadata": {},
   "outputs": [
    {
     "data": {
      "text/plain": [
       "10542121.0"
      ]
     },
     "execution_count": 242,
     "metadata": {},
     "output_type": "execute_result"
    }
   ],
   "source": [
    "def median(lst):\n",
    "    n = len(lst)\n",
    "    if n < 1:\n",
    "            return None\n",
    "    if n % 2 == 1:\n",
    "            return sorted(lst)[n//2]\n",
    "    else:\n",
    "            return sum(sorted(lst)[n//2-1:n//2+1])/2.0\n",
    "median(AvgVol)"
   ]
  },
  {
   "cell_type": "code",
   "execution_count": null,
   "metadata": {},
   "outputs": [],
   "source": [
    "[prev_day_price - next_day_price for prev_day_price, next_day_price in zip(closing_prices, closing_prices[1:])]\n",
    "abs "
   ]
  },
  {
   "cell_type": "code",
   "execution_count": null,
   "metadata": {},
   "outputs": [],
   "source": []
  },
  {
   "cell_type": "code",
   "execution_count": null,
   "metadata": {},
   "outputs": [],
   "source": []
  },
  {
   "cell_type": "code",
   "execution_count": null,
   "metadata": {},
   "outputs": [],
   "source": []
  },
  {
   "cell_type": "code",
   "execution_count": null,
   "metadata": {},
   "outputs": [],
   "source": []
  },
  {
   "cell_type": "code",
   "execution_count": null,
   "metadata": {},
   "outputs": [],
   "source": []
  },
  {
   "cell_type": "code",
   "execution_count": null,
   "metadata": {},
   "outputs": [],
   "source": []
  }
 ],
 "metadata": {
  "kernelspec": {
   "display_name": "Python 3",
   "language": "python",
   "name": "python3"
  },
  "language_info": {
   "codemirror_mode": {
    "name": "ipython",
    "version": 3
   },
   "file_extension": ".py",
   "mimetype": "text/x-python",
   "name": "python",
   "nbconvert_exporter": "python",
   "pygments_lexer": "ipython3",
   "version": "3.6.5"
  }
 },
 "nbformat": 4,
 "nbformat_minor": 2
}
