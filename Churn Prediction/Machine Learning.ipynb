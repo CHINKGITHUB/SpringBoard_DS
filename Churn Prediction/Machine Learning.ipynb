{
 "cells": [
  {
   "cell_type": "code",
   "execution_count": 1,
   "metadata": {},
   "outputs": [],
   "source": [
    "from sklearn.model_selection import train_test_split\n",
    "from sklearn.linear_model import LogisticRegression\n",
    "from sklearn.metrics import confusion_matrix,accuracy_score,classification_report\n",
    "from sklearn.metrics import roc_auc_score,roc_curve,scorer\n",
    "import numpy as np # linear algebra\n",
    "import pandas as pd # data processing, CSV file I/O (e.g. pd.read_csv)\n",
    "import matplotlib.pyplot as plt#visualization\n",
    "import seaborn as sns#visualization\n",
    "import warnings\n",
    "warnings.filterwarnings(\"ignore\")\n",
    "from sklearn.ensemble import RandomForestClassifier\n",
    "from sklearn import metrics\n",
    "from sklearn import ensemble\n",
    "from sklearn.metrics import mean_squared_error\n",
    "from sklearn import svm"
   ]
  },
  {
   "cell_type": "code",
   "execution_count": 2,
   "metadata": {},
   "outputs": [],
   "source": [
    "telecom_cust = pd.read_csv('data/WA_Fn-UseC_-Telco-Customer-Churn.csv')\n",
    "telecom_cust.TotalCharges = pd.to_numeric(telecom_cust.TotalCharges, errors='coerce')"
   ]
  },
  {
   "cell_type": "code",
   "execution_count": 3,
   "metadata": {},
   "outputs": [],
   "source": [
    "#Removing missing values \n",
    "telecom_cust.dropna(inplace = True)\n",
    "#Remove customer IDs from the data set\n",
    "df2 = telecom_cust.drop(columns=['customerID'])\n",
    "#telecom_cust.iloc[:,1:]\n",
    "#Convertin the predictor variable in a binary numeric variable\n",
    "df2['Churn'].replace(to_replace='Yes', value=1, inplace=True)\n",
    "df2['Churn'].replace(to_replace='No',  value=0, inplace=True)\n",
    "\n",
    "#Let's convert all the categorical variables into dummy variables\n",
    "df_dummies = pd.get_dummies(df2)\n",
    "df_dummies.head()\n",
    "y = df_dummies['Churn'].values\n",
    "X = df_dummies.drop(columns = ['Churn'])"
   ]
  },
  {
   "cell_type": "code",
   "execution_count": 4,
   "metadata": {},
   "outputs": [],
   "source": [
    "# Split trianing and test Data:\n",
    "\n",
    "X_train, X_test, y_train, y_test = train_test_split(X, y, random_state=1)"
   ]
  },
  {
   "cell_type": "markdown",
   "metadata": {},
   "source": [
    "# Logistic Regression"
   ]
  },
  {
   "cell_type": "code",
   "execution_count": 5,
   "metadata": {},
   "outputs": [
    {
     "name": "stdout",
     "output_type": "stream",
     "text": [
      "Algorithm : LogisticRegression(C=1.0, class_weight=None, dual=False, fit_intercept=True,\n",
      "          intercept_scaling=1, max_iter=100, multi_class='ovr', n_jobs=1,\n",
      "          penalty='l2', random_state=None, solver='liblinear', tol=0.0001,\n",
      "          verbose=0, warm_start=False)\n",
      "\n",
      " Classification report : \n",
      "               precision    recall  f1-score   support\n",
      "\n",
      "           0       0.84      0.90      0.87      1294\n",
      "           1       0.65      0.54      0.59       464\n",
      "\n",
      "   micro avg       0.80      0.80      0.80      1758\n",
      "   macro avg       0.75      0.72      0.73      1758\n",
      "weighted avg       0.79      0.80      0.80      1758\n",
      "\n",
      "Accuracy   Score :  0.8020477815699659\n",
      "Area under curve :  0.7183103048553003 \n",
      "\n"
     ]
    }
   ],
   "source": [
    "logit  = LogisticRegression(C=1.0, class_weight=None, dual=False, fit_intercept=True,\n",
    "          intercept_scaling=1, max_iter=100, multi_class='ovr', n_jobs=1,\n",
    "          penalty='l2', random_state=None, solver='liblinear', tol=0.0001,\n",
    "          verbose=0, warm_start=False)\n",
    "\n",
    "\n",
    "logit.fit(X_train,y_train)\n",
    "predict = logit.predict(X_test)\n",
    "Proba  = logit.predict_proba(X_test)\n",
    "\n",
    "print(\"Algorithm :\",  logit)\n",
    "print (\"\\n Classification report : \\n\",classification_report(y_test,predict))\n",
    "print (\"Accuracy   Score : \",accuracy_score(y_test,predict))\n",
    "model_roc_auc = roc_auc_score(y_test,predict) \n",
    "print (\"Area under curve : \",model_roc_auc,\"\\n\")\n",
    "fpr,tpr,thresholds = roc_curve(y_test,Proba[:,1])"
   ]
  },
  {
   "cell_type": "code",
   "execution_count": 6,
   "metadata": {},
   "outputs": [
    {
     "name": "stdout",
     "output_type": "stream",
     "text": [
      "AxesSubplot(0.125,0.125;0.775x0.755)\n"
     ]
    },
    {
     "data": {
      "image/png": "[encoded data removed]",
      "text/plain": [
       "<Figure size 432x288 with 1 Axes>"
      ]
     },
     "metadata": {
      "needs_background": "light"
     },
     "output_type": "display_data"
    }
   ],
   "source": [
    "weights = pd.Series(logit.coef_[0],\n",
    "                 index=X.columns.values)\n",
    "print (weights.sort_values(ascending = False)[:10].plot(kind='bar'))"
   ]
  },
  {
   "cell_type": "markdown",
   "metadata": {},
   "source": [
    "# Random Forest Classifier"
   ]
  },
  {
   "cell_type": "code",
   "execution_count": 7,
   "metadata": {},
   "outputs": [
    {
     "name": "stdout",
     "output_type": "stream",
     "text": [
      "Algorithm : RandomForestClassifier(bootstrap=True, class_weight=None, criterion='gini',\n",
      "            max_depth=None, max_features='auto', max_leaf_nodes=None,\n",
      "            min_impurity_decrease=0.0, min_impurity_split=None,\n",
      "            min_samples_leaf=1, min_samples_split=2,\n",
      "            min_weight_fraction_leaf=0.0, n_estimators=10, n_jobs=None,\n",
      "            oob_score=False, random_state=0, verbose=0, warm_start=False)\n",
      "\n",
      " Classification report : \n",
      "               precision    recall  f1-score   support\n",
      "\n",
      "           0       0.82      0.90      0.85      1294\n",
      "           1       0.60      0.44      0.51       464\n",
      "\n",
      "   micro avg       0.78      0.78      0.78      1758\n",
      "   macro avg       0.71      0.67      0.68      1758\n",
      "weighted avg       0.76      0.78      0.76      1758\n",
      "\n",
      "Accuracy   Score :  0.7758816837315131\n",
      "Area under curve :  0.6673589644513137 \n",
      "\n",
      "Accuracy: 0.7758816837315131\n"
     ]
    }
   ],
   "source": [
    "#X_train, X_test, y_train, y_test = train_test_split(X, y, random_state=1)\n",
    "clf = RandomForestClassifier(random_state=0).fit(X_train, y_train)\n",
    "clf.fit(X_train,y_train)\n",
    "y_pred=clf.predict(X_test)\n",
    "\n",
    "print(\"Algorithm :\",  clf)\n",
    "print (\"\\n Classification report : \\n\",classification_report(y_test,y_pred))\n",
    "print (\"Accuracy   Score : \",accuracy_score(y_test,y_pred))\n",
    "model_roc_auc = roc_auc_score(y_test,y_pred) \n",
    "print (\"Area under curve : \",model_roc_auc,\"\\n\")\n",
    "fpr,tpr,thresholds = roc_curve(y_test,Proba[:,1])\n",
    "print(\"Accuracy:\",metrics.accuracy_score(y_test, y_pred))"
   ]
  },
  {
   "cell_type": "markdown",
   "metadata": {},
   "source": [
    "# Gradient Boosting Regressor"
   ]
  },
  {
   "cell_type": "code",
   "execution_count": 8,
   "metadata": {},
   "outputs": [
    {
     "name": "stdout",
     "output_type": "stream",
     "text": [
      "MSE: 0.1323\n"
     ]
    }
   ],
   "source": [
    "\n",
    "params = {'n_estimators': 500, 'max_depth': 4, 'min_samples_split': 2,\n",
    "          'learning_rate': 0.01, 'loss': 'ls'}\n",
    "clf = ensemble.GradientBoostingRegressor(**params)\n",
    "clf.fit(X_train,y_train)\n",
    "y_pred=clf.predict(X_test) \n",
    "\n",
    "mse = mean_squared_error(y_test,y_pred)\n",
    "print(\"MSE: %.4f\" % mse)"
   ]
  },
  {
   "cell_type": "code",
   "execution_count": 9,
   "metadata": {},
   "outputs": [
    {
     "data": {
      "text/plain": [
       "Text(0, 0.5, 'Deviance')"
      ]
     },
     "execution_count": 9,
     "metadata": {},
     "output_type": "execute_result"
    },
    {
     "data": {
      "image/png": "[encoded data removed]",
      "text/plain": [
       "<Figure size 864x432 with 1 Axes>"
      ]
     },
     "metadata": {
      "needs_background": "light"
     },
     "output_type": "display_data"
    }
   ],
   "source": [
    "test_score = np.zeros((params['n_estimators'],), dtype=np.float64)\n",
    "\n",
    "for i, y_pred in enumerate(clf.staged_predict(X_test)):\n",
    "    test_score[i] = clf.loss_(y_test, y_pred)\n",
    "\n",
    "plt.figure(figsize=(12, 6))\n",
    "plt.subplot(1, 2, 1)\n",
    "plt.title('Deviance')\n",
    "plt.plot(np.arange(params['n_estimators']) + 1, clf.train_score_, 'b-',\n",
    "         label='Training Set Deviance')\n",
    "plt.plot(np.arange(params['n_estimators']) + 1, test_score, 'r-',\n",
    "         label='Test Set Deviance')\n",
    "plt.legend(loc='upper right')\n",
    "plt.xlabel('Boosting Iterations')\n",
    "plt.ylabel('Deviance')"
   ]
  },
  {
   "cell_type": "markdown",
   "metadata": {},
   "source": [
    "# Support Vector Machine (SVM)"
   ]
  },
  {
   "cell_type": "code",
   "execution_count": null,
   "metadata": {},
   "outputs": [],
   "source": [
    "#X_train, X_test, y_train, y_test\n",
    "#from sklearn.svm import SVC\n",
    "from sklearn import svm\n",
    "model = svm.SVC(kernel='linear')\n",
    "model.fit(X_train,y_train)\n",
    "predict = model.predict(X_test)\n",
    "accuracy_score = metrics.accuracy_score(y_test, predict)\n",
    "print(\"Algorithm :\",  model)\n",
    "print(\"accuracy score\", accuracy_score)\n",
    "\n",
    "\n"
   ]
  },
  {
   "cell_type": "markdown",
   "metadata": {},
   "source": [
    "# XG Boost"
   ]
  },
  {
   "cell_type": "code",
   "execution_count": 11,
   "metadata": {},
   "outputs": [
    {
     "name": "stdout",
     "output_type": "stream",
     "text": [
      "Collecting xgboost\n",
      "  Using cached https://files.pythonhosted.org/packages/2e/bd/ad3a963b630fa3ee72d1a672fd207263fa0a18113688273afe8298293535/xgboost-0.82.tar.gz\n",
      "    Complete output from command python setup.py egg_info:\n",
      "    ++ pwd\n",
      "    + oldpath=/private/var/folders/cg/gcv117l90l927w_n_5pyf8th0000gn/T/pip-install-83o087kg/xgboost\n",
      "    + cd ./xgboost/\n",
      "    + echo darwin17\n",
      "    + grep -q darwin\n",
      "    + LIB_XGBOOST=libxgboost.dylib\n",
      "    + which g++-5\n",
      "    + which g++-7\n",
      "    + which g++-8\n",
      "    + which clang++\n",
      "    /anaconda3/bin/clang++\n",
      "    + export CC=clang\n",
      "    + CC=clang\n",
      "    + export CXX=clang++\n",
      "    + CXX=clang++\n",
      "    + make clean\n",
      "    Makefile:31: MAKE [make] - checked OK\n",
      "    rm -f -rf build build_plugin lib bin *~ */*~ */*/*~ */*/*/*~ */*.o */*/*.o */*/*/*.o #xgboost\n",
      "    rm -f -rf build_tests *.gcov tests/cpp/xgboost_test\n",
      "    if [ -d \"R-package/src\" ]; then \\\n",
      "    \tcd R-package/src; \\\n",
      "    \trm -f -rf rabit src include dmlc-core amalgamation *.so *.dll; \\\n",
      "    \tcd /private/var/folders/cg/gcv117l90l927w_n_5pyf8th0000gn/T/pip-install-83o087kg/xgboost/xgboost; \\\n",
      "    fi\n",
      "    + make lib/libxgboost.dylib -j4\n",
      "    Makefile:31: MAKE [make] - checked OK\n",
      "    clang++ -DDMLC_LOG_CUSTOMIZE=1 -std=c++11 -Wall -Wno-unknown-pragmas -Iinclude   -Idmlc-core/include -Irabit/include -I/include -O3 -funroll-loops -msse2 -fPIC -fopenmp -MM -MT build/learner.o src/learner.cc >build/learner.d\n",
      "    clang++ -DDMLC_LOG_CUSTOMIZE=1 -std=c++11 -Wall -Wno-unknown-pragmas -Iinclude   -Idmlc-core/include -Irabit/include -I/include -O3 -funroll-loops -msse2 -fPIC -fopenmp -MM -MT build/logging.o src/logging.cc >build/logging.d\n",
      "    clang++ -DDMLC_LOG_CUSTOMIZE=1 -std=c++11 -Wall -Wno-unknown-pragmas -Iinclude   -Idmlc-core/include -Irabit/include -I/include -O3 -funroll-loops -msse2 -fPIC -fopenmp -MM -MT build/tree/tree_model.o src/tree/tree_model.cc >build/tree/tree_model.d\n",
      "    clang++ -DDMLC_LOG_CUSTOMIZE=1 -std=c++11 -Wall -Wno-unknown-pragmas -Iinclude   -Idmlc-core/include -Irabit/include -I/include -O3 -funroll-loops -msse2 -fPIC -fopenmp -MM -MT build/tree/updater_histmaker.o src/tree/updater_histmaker.cc >build/tree/updater_histmaker.d\n",
      "    In file included from src/tree/tree_model.cc:6:\n",
      "    In file included from include/xgboost/tree_model.h:10:\n",
      "    In file included from dmlc-core/include/dmlc/io.h:In file included from src/learner.cc8::\n",
      "    7In file included from :\n",
      "    In file included from dmlc-core/include/dmlc/io.h:8/anaconda3/bin/../include/c++/v1/cstdio:\n",
      "    :In file included from /anaconda3/bin/../include/c++/v1/cstdio100::\n",
      "    100:\n",
      "    /anaconda3/bin/../include/c++/v1/stdio.h/anaconda3/bin/../include/c++/v1/stdio.h::108108::1515::  fatal errorfatal error: : 'stdio.h' file not found'stdio.h' file not found\n",
      "    \n",
      "    #include_next <stdio.h>\n",
      "                  ^~~~~~~~~#include_next <stdio.h>\n",
      "    \n",
      "                  ^~~~~~~~~\n",
      "    In file included from src/logging.cc:7:\n",
      "    In file included from rabit/include/rabit/rabit.h:13:\n",
      "    In file included from /anaconda3/bin/../include/c++/v1/string:470:\n",
      "    In file included from /anaconda3/bin/../include/c++/v1/string_view:171:\n",
      "    In file included from /anaconda3/bin/../include/c++/v1/__string:56:\n",
      "    In file included from /anaconda3/bin/../include/c++/v1/algorithm:638:\n",
      "    In file included from /anaconda3/bin/../include/c++/v1/cstring:61:\n",
      "    /anaconda3/bin/../include/c++/v1/string.h:61:15: fatal error: 'string.h' file not found\n",
      "    In file included from src/tree/updater_histmaker.cc:7:\n",
      "    In file included from rabit/include/rabit/rabit.h:13:\n",
      "    In file included from /anaconda3/bin/../include/c++/v1/string:470:\n",
      "    In file included from /anaconda3/bin/../include/c++/v1/string_view:171:\n",
      "    In file included from /anaconda3/bin/../include/c++/v1/__string:56:\n",
      "    In file included from /anaconda3/bin/../include/c++/v1/algorithm:638:\n",
      "    #include_next <string.h>In file included from\n",
      "    /anaconda3/bin/../include/c++/v1/cstring              ^~~~~~~~~~\n",
      "    :61:\n",
      "    /anaconda3/bin/../include/c++/v1/string.h:61:15: fatal error: 'string.h' file not found\n",
      "    #include_next <string.h>\n",
      "                  ^~~~~~~~~~\n",
      "    1 error generated.\n",
      "    1 error generated.\n",
      "    make: *** [Makefile:142: build/logging.o] Error 1\n",
      "    make: *** Waiting for unfinished jobs....\n",
      "    make: *** [Makefile:142: build/tree/tree_model.o] Error 1\n",
      "    1 error generated.\n",
      "    1 error generated.\n",
      "    make: *** [Makefile:142: build/learner.o] Error 1\n",
      "    make: *** [Makefile:142: build/tree/updater_histmaker.o] Error 1\n",
      "    + echo -----------------------------\n",
      "    -----------------------------\n",
      "    + echo 'Building multi-thread xgboost failed'\n",
      "    Building multi-thread xgboost failed\n",
      "    + echo 'Start to build single-thread xgboost'\n",
      "    Start to build single-thread xgboost\n",
      "    + make clean\n",
      "    Makefile:31: MAKE [make] - checked OK\n",
      "    rm -f -rf build build_plugin lib bin *~ */*~ */*/*~ */*/*/*~ */*.o */*/*.o */*/*/*.o #xgboost\n",
      "    rm -f -rf build_tests *.gcov tests/cpp/xgboost_test\n",
      "    if [ -d \"R-package/src\" ]; then \\\n",
      "    \tcd R-package/src; \\\n",
      "    \trm -f -rf rabit src include dmlc-core amalgamation *.so *.dll; \\\n",
      "    \tcd /private/var/folders/cg/gcv117l90l927w_n_5pyf8th0000gn/T/pip-install-83o087kg/xgboost/xgboost; \\\n",
      "    fi\n",
      "    + make lib/libxgboost.dylib -j4 USE_OPENMP=0\n",
      "    Makefile:31: MAKE [make] - checked OK\n",
      "    clang++ -DDMLC_LOG_CUSTOMIZE=1 -std=c++11 -Wall -Wno-unknown-pragmas -Iinclude   -Idmlc-core/include -Irabit/include -I/include -O3 -funroll-loops -msse2 -fPIC -DDISABLE_OPENMP -MM -MT build/learner.o src/learner.cc >build/learner.d\n",
      "    clang++ -DDMLC_LOG_CUSTOMIZE=1 -std=c++11 -Wall -Wno-unknown-pragmas -Iinclude   -Idmlc-core/include -Irabit/include -I/include -O3 -funroll-loops -msse2 -fPIC -DDISABLE_OPENMP -MM -MT build/logging.o src/logging.cc >build/logging.d\n",
      "    clang++ -DDMLC_LOG_CUSTOMIZE=1 -std=c++11 -Wall -Wno-unknown-pragmas -Iinclude   -Idmlc-core/include -Irabit/include -I/include -O3 -funroll-loops -msse2 -fPIC -DDISABLE_OPENMP -MM -MT build/tree/tree_model.o src/tree/tree_model.cc >build/tree/tree_model.d\n",
      "    clang++ -DDMLC_LOG_CUSTOMIZE=1 -std=c++11 -Wall -Wno-unknown-pragmas -Iinclude   -Idmlc-core/include -Irabit/include -I/include -O3 -funroll-loops -msse2 -fPIC -DDISABLE_OPENMP -MM -MT build/tree/updater_histmaker.o src/tree/updater_histmaker.cc >build/tree/updater_histmaker.d\n",
      "    In file included from src/learner.cc:7:\n",
      "    In file included from dmlc-core/include/dmlc/io.h:8:\n",
      "    In file included from /anaconda3/bin/../include/c++/v1/cstdio:100:\n",
      "    /anaconda3/bin/../include/c++/v1/stdio.hIn file included from src/tree/tree_model.cc:6:\n",
      "    In file included from include/xgboost/tree_model.h:10:\n",
      "    In file included from dmlc-core/include/dmlc/io.h:8:\n",
      "    In file included from /anaconda3/bin/../include/c++/v1/cstdio:100:\n",
      "    /anaconda3/bin/../include/c++/v1/stdio.h:108:15: fatal error: 'stdio.h' file not found\n",
      "    #include_next <stdio.h>\n",
      "                  ^~~~~~~~~\n",
      "    :108:15: fatal error: 'stdio.h' file not found\n",
      "    #include_next <stdio.h>\n",
      "                  ^~~~~~~~~\n",
      "    In file included from src/tree/updater_histmaker.cc:7:\n",
      "    In file included from rabit/include/rabit/rabit.h:13:\n",
      "    In file included from /anaconda3/bin/../include/c++/v1/string:470:\n",
      "    In file included from /anaconda3/bin/../include/c++/v1/string_view:171:\n",
      "    In file included from /anaconda3/bin/../include/c++/v1/__string:56:\n",
      "    In file included from /anaconda3/bin/../include/c++/v1/algorithm:638:\n",
      "    In file included from /anaconda3/bin/../include/c++/v1/cstring:61:\n",
      "    /anaconda3/bin/../include/c++/v1/string.h:61:15: fatal error: 'string.h' file not found\n",
      "    #include_next <string.h>\n",
      "                  ^~~~~~~~~~\n",
      "    In file included from src/logging.cc:7:\n",
      "    In file included from rabit/include/rabit/rabit.h:13:\n",
      "    In file included from /anaconda3/bin/../include/c++/v1/string:470:\n",
      "    In file included from /anaconda3/bin/../include/c++/v1/string_view:171:\n",
      "    In file included from /anaconda3/bin/../include/c++/v1/__string:56:\n",
      "    In file included from /anaconda3/bin/../include/c++/v1/algorithm:638:\n",
      "    In file included from /anaconda3/bin/../include/c++/v1/cstring:61:\n",
      "    /anaconda3/bin/../include/c++/v1/string.h:61:15: fatal error: 'string.h' file not found\n",
      "    #include_next <string.h>\n",
      "                  ^~~~~~~~~~\n",
      "    1 error generated.\n",
      "    1 error generated.\n",
      "    make: *** [Makefile:142: build/logging.o] Error 1\n",
      "    make: *** Waiting for unfinished jobs....\n",
      "    make: *** [Makefile:142: build/tree/tree_model.o] Error 1\n",
      "    1 error generated.\n",
      "    1 error generated.\n",
      "    make: *** [Makefile:142: build/learner.o] Error 1\n",
      "    make: *** [Makefile:142: build/tree/updater_histmaker.o] Error 1\n",
      "    Traceback (most recent call last):\n",
      "      File \"<string>\", line 1, in <module>\n",
      "      File \"/private/var/folders/cg/gcv117l90l927w_n_5pyf8th0000gn/T/pip-install-83o087kg/xgboost/setup.py\", line 42, in <module>\n",
      "        LIB_PATH = libpath['find_lib_path']()\n",
      "      File \"/private/var/folders/cg/gcv117l90l927w_n_5pyf8th0000gn/T/pip-install-83o087kg/xgboost/xgboost/libpath.py\", line 49, in find_lib_path\n",
      "        'List of candidates:\\n' + ('\\n'.join(dll_path)))\n",
      "    XGBoostLibraryNotFound: Cannot find XGBoost Library in the candidate path, did you install compilers and run build.sh in root path?\n",
      "    List of candidates:\n",
      "    /private/var/folders/cg/gcv117l90l927w_n_5pyf8th0000gn/T/pip-install-83o087kg/xgboost/xgboost/libxgboost.dylib\n",
      "    /private/var/folders/cg/gcv117l90l927w_n_5pyf8th0000gn/T/pip-install-83o087kg/xgboost/xgboost/../../lib/libxgboost.dylib\n",
      "    /private/var/folders/cg/gcv117l90l927w_n_5pyf8th0000gn/T/pip-install-83o087kg/xgboost/xgboost/./lib/libxgboost.dylib\n",
      "    /Library/Frameworks/Python.framework/Versions/3.6/xgboost/libxgboost.dylib\n",
      "    \n",
      "    ----------------------------------------\n"
     ]
    },
    {
     "name": "stdout",
     "output_type": "stream",
     "text": [
      "\u001b[31mCommand \"python setup.py egg_info\" failed with error code 1 in /private/var/folders/cg/gcv117l90l927w_n_5pyf8th0000gn/T/pip-install-83o087kg/xgboost/\u001b[0m\r\n"
     ]
    },
    {
     "ename": "ModuleNotFoundError",
     "evalue": "No module named 'xgboost'",
     "output_type": "error",
     "traceback": [
      "\u001b[0;31m---------------------------------------------------------------------------\u001b[0m",
      "\u001b[0;31mModuleNotFoundError\u001b[0m                       Traceback (most recent call last)",
      "\u001b[0;32m<ipython-input-11-52047eb15ba2>\u001b[0m in \u001b[0;36m<module>\u001b[0;34m\u001b[0m\n\u001b[1;32m      2\u001b[0m \u001b[0mget_ipython\u001b[0m\u001b[0;34m(\u001b[0m\u001b[0;34m)\u001b[0m\u001b[0;34m.\u001b[0m\u001b[0msystem\u001b[0m\u001b[0;34m(\u001b[0m\u001b[0;34m'{sys.executable} -m pip install xgboost'\u001b[0m\u001b[0;34m)\u001b[0m\u001b[0;34m\u001b[0m\u001b[0m\n\u001b[1;32m      3\u001b[0m \u001b[0;34m\u001b[0m\u001b[0m\n\u001b[0;32m----> 4\u001b[0;31m \u001b[0;32mfrom\u001b[0m \u001b[0mxgboost\u001b[0m \u001b[0;32mimport\u001b[0m \u001b[0mXGBClassifier\u001b[0m\u001b[0;34m\u001b[0m\u001b[0m\n\u001b[0m\u001b[1;32m      5\u001b[0m \u001b[0mclf\u001b[0m \u001b[0;34m=\u001b[0m \u001b[0mXGBClassifier\u001b[0m\u001b[0;34m(\u001b[0m\u001b[0;34m)\u001b[0m\u001b[0;34m\u001b[0m\u001b[0m\n\u001b[1;32m      6\u001b[0m \u001b[0mclf\u001b[0m\u001b[0;34m.\u001b[0m\u001b[0mfit\u001b[0m\u001b[0;34m(\u001b[0m\u001b[0mX_train\u001b[0m\u001b[0;34m,\u001b[0m\u001b[0my_train\u001b[0m\u001b[0;34m)\u001b[0m\u001b[0;34m\u001b[0m\u001b[0m\n",
      "\u001b[0;31mModuleNotFoundError\u001b[0m: No module named 'xgboost'"
     ]
    }
   ],
   "source": [
    "import sys\n",
    "!{sys.executable} -m pip install xgboost\n",
    "\n",
    "from xgboost import XGBClassifier\n",
    "clf = XGBClassifier()\n",
    "clf.fit(X_train,y_train)\n",
    "predict = clf.predict(X_test)\n",
    "\n",
    "accuracy_score = metrics.accuracy_score(y_test, predict)\n",
    "print(\"Algorithm :\",  model)\n",
    "print(\"accuracy score\", accuracy_score)"
   ]
  },
  {
   "cell_type": "markdown",
   "metadata": {},
   "source": [
    "# Catboost"
   ]
  },
  {
   "cell_type": "code",
   "execution_count": null,
   "metadata": {},
   "outputs": [],
   "source": [
    "from catboost import CatBoostRegressor"
   ]
  },
  {
   "cell_type": "code",
   "execution_count": null,
   "metadata": {},
   "outputs": [],
   "source": [
    "!pip3 install xgboost"
   ]
  },
  {
   "cell_type": "code",
   "execution_count": null,
   "metadata": {},
   "outputs": [],
   "source": []
  }
 ],
 "metadata": {
  "kernelspec": {
   "display_name": "Python 3",
   "language": "python",
   "name": "python3"
  },
  "language_info": {
   "codemirror_mode": {
    "name": "ipython",
    "version": 3
   },
   "file_extension": ".py",
   "mimetype": "text/x-python",
   "name": "python",
   "nbconvert_exporter": "python",
   "pygments_lexer": "ipython3",
   "version": "3.6.6"
  }
 },
 "nbformat": 4,
 "nbformat_minor": 2
}
