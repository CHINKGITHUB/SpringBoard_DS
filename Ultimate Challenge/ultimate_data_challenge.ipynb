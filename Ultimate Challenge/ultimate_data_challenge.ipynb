{
 "cells": [
  {
   "cell_type": "markdown",
   "metadata": {},
   "source": [
    "Part 1 ‐ Exploratory data analysis\n",
    "The attached logins.json file contains (simulated) timestamps of user logins in a particular geographic location. \n",
    "Aggregate these login counts based on 15­minute time intervals, and visualize and describe the resulting time seriesof login counts in ways that best characterize the underlying patterns of the demand. \n",
    "Please report/illustrate important features of the demand, such as daily cycles. \n",
    "If there are data quality issues, please report them."
   ]
  },
  {
   "cell_type": "code",
   "execution_count": 50,
   "metadata": {},
   "outputs": [],
   "source": [
    "import pandas as pd\n",
    "import numpy as np\n",
    "import json\n",
    "import matplotlib.pyplot as plt\n",
    "import statsmodels.api as sm\n",
    "import warnings\n",
    "warnings.filterwarnings(\"ignore\")"
   ]
  },
  {
   "cell_type": "code",
   "execution_count": 51,
   "metadata": {},
   "outputs": [
    {
     "data": {
      "text/html": [
       "<div>\n",
       "<style scoped>\n",
       "    .dataframe tbody tr th:only-of-type {\n",
       "        vertical-align: middle;\n",
       "    }\n",
       "\n",
       "    .dataframe tbody tr th {\n",
       "        vertical-align: top;\n",
       "    }\n",
       "\n",
       "    .dataframe thead th {\n",
       "        text-align: right;\n",
       "    }\n",
       "</style>\n",
       "<table border=\"1\" class=\"dataframe\">\n",
       "  <thead>\n",
       "    <tr style=\"text-align: right;\">\n",
       "      <th></th>\n",
       "      <th>login_time</th>\n",
       "      <th>count</th>\n",
       "    </tr>\n",
       "  </thead>\n",
       "  <tbody>\n",
       "    <tr>\n",
       "      <th>0</th>\n",
       "      <td>1970-01-01 20:13:18</td>\n",
       "      <td>1</td>\n",
       "    </tr>\n",
       "    <tr>\n",
       "      <th>1</th>\n",
       "      <td>1970-01-01 20:16:10</td>\n",
       "      <td>1</td>\n",
       "    </tr>\n",
       "    <tr>\n",
       "      <th>2</th>\n",
       "      <td>1970-01-01 20:16:37</td>\n",
       "      <td>1</td>\n",
       "    </tr>\n",
       "    <tr>\n",
       "      <th>3</th>\n",
       "      <td>1970-01-01 20:16:36</td>\n",
       "      <td>1</td>\n",
       "    </tr>\n",
       "    <tr>\n",
       "      <th>4</th>\n",
       "      <td>1970-01-01 20:26:21</td>\n",
       "      <td>1</td>\n",
       "    </tr>\n",
       "  </tbody>\n",
       "</table>\n",
       "</div>"
      ],
      "text/plain": [
       "           login_time  count\n",
       "0 1970-01-01 20:13:18      1\n",
       "1 1970-01-01 20:16:10      1\n",
       "2 1970-01-01 20:16:37      1\n",
       "3 1970-01-01 20:16:36      1\n",
       "4 1970-01-01 20:26:21      1"
      ]
     },
     "execution_count": 51,
     "metadata": {},
     "output_type": "execute_result"
    }
   ],
   "source": [
    "#df_logins = pd.read_json(\"logins.json\")\n",
    "df_logins = pd.read_json(\"logins.json\")\n",
    "df_logins[\"count\"] = 1\n",
    "df_logins.head()"
   ]
  },
  {
   "cell_type": "code",
   "execution_count": 52,
   "metadata": {},
   "outputs": [
    {
     "name": "stdout",
     "output_type": "stream",
     "text": [
      "<class 'pandas.core.frame.DataFrame'>\n",
      "RangeIndex: 93142 entries, 0 to 93141\n",
      "Data columns (total 2 columns):\n",
      "login_time    93142 non-null datetime64[ns]\n",
      "count         93142 non-null int64\n",
      "dtypes: datetime64[ns](1), int64(1)\n",
      "memory usage: 1.4 MB\n"
     ]
    }
   ],
   "source": [
    "df_logins.info()"
   ]
  },
  {
   "cell_type": "code",
   "execution_count": 53,
   "metadata": {},
   "outputs": [
    {
     "data": {
      "text/html": [
       "<div>\n",
       "<style scoped>\n",
       "    .dataframe tbody tr th:only-of-type {\n",
       "        vertical-align: middle;\n",
       "    }\n",
       "\n",
       "    .dataframe tbody tr th {\n",
       "        vertical-align: top;\n",
       "    }\n",
       "\n",
       "    .dataframe thead th {\n",
       "        text-align: right;\n",
       "    }\n",
       "</style>\n",
       "<table border=\"1\" class=\"dataframe\">\n",
       "  <thead>\n",
       "    <tr style=\"text-align: right;\">\n",
       "      <th></th>\n",
       "      <th>count</th>\n",
       "    </tr>\n",
       "  </thead>\n",
       "  <tbody>\n",
       "    <tr>\n",
       "      <th>count</th>\n",
       "      <td>93142.0</td>\n",
       "    </tr>\n",
       "    <tr>\n",
       "      <th>mean</th>\n",
       "      <td>1.0</td>\n",
       "    </tr>\n",
       "    <tr>\n",
       "      <th>std</th>\n",
       "      <td>0.0</td>\n",
       "    </tr>\n",
       "    <tr>\n",
       "      <th>min</th>\n",
       "      <td>1.0</td>\n",
       "    </tr>\n",
       "    <tr>\n",
       "      <th>25%</th>\n",
       "      <td>1.0</td>\n",
       "    </tr>\n",
       "    <tr>\n",
       "      <th>50%</th>\n",
       "      <td>1.0</td>\n",
       "    </tr>\n",
       "    <tr>\n",
       "      <th>75%</th>\n",
       "      <td>1.0</td>\n",
       "    </tr>\n",
       "    <tr>\n",
       "      <th>max</th>\n",
       "      <td>1.0</td>\n",
       "    </tr>\n",
       "  </tbody>\n",
       "</table>\n",
       "</div>"
      ],
      "text/plain": [
       "         count\n",
       "count  93142.0\n",
       "mean       1.0\n",
       "std        0.0\n",
       "min        1.0\n",
       "25%        1.0\n",
       "50%        1.0\n",
       "75%        1.0\n",
       "max        1.0"
      ]
     },
     "execution_count": 53,
     "metadata": {},
     "output_type": "execute_result"
    }
   ],
   "source": [
    "df_logins.describe()"
   ]
  },
  {
   "cell_type": "code",
   "execution_count": 54,
   "metadata": {},
   "outputs": [
    {
     "data": {
      "text/html": [
       "<div>\n",
       "<style scoped>\n",
       "    .dataframe tbody tr th:only-of-type {\n",
       "        vertical-align: middle;\n",
       "    }\n",
       "\n",
       "    .dataframe tbody tr th {\n",
       "        vertical-align: top;\n",
       "    }\n",
       "\n",
       "    .dataframe thead th {\n",
       "        text-align: right;\n",
       "    }\n",
       "</style>\n",
       "<table border=\"1\" class=\"dataframe\">\n",
       "  <thead>\n",
       "    <tr style=\"text-align: right;\">\n",
       "      <th></th>\n",
       "      <th>count</th>\n",
       "      <th>day_of_week</th>\n",
       "      <th>hour</th>\n",
       "    </tr>\n",
       "    <tr>\n",
       "      <th>login_time</th>\n",
       "      <th></th>\n",
       "      <th></th>\n",
       "      <th></th>\n",
       "    </tr>\n",
       "  </thead>\n",
       "  <tbody>\n",
       "    <tr>\n",
       "      <th>1970-01-01 20:00:00</th>\n",
       "      <td>2</td>\n",
       "      <td>3</td>\n",
       "      <td>20</td>\n",
       "    </tr>\n",
       "    <tr>\n",
       "      <th>1970-01-01 20:15:00</th>\n",
       "      <td>6</td>\n",
       "      <td>3</td>\n",
       "      <td>20</td>\n",
       "    </tr>\n",
       "    <tr>\n",
       "      <th>1970-01-01 20:30:00</th>\n",
       "      <td>9</td>\n",
       "      <td>3</td>\n",
       "      <td>20</td>\n",
       "    </tr>\n",
       "    <tr>\n",
       "      <th>1970-01-01 20:45:00</th>\n",
       "      <td>7</td>\n",
       "      <td>3</td>\n",
       "      <td>20</td>\n",
       "    </tr>\n",
       "    <tr>\n",
       "      <th>1970-01-01 21:00:00</th>\n",
       "      <td>1</td>\n",
       "      <td>3</td>\n",
       "      <td>21</td>\n",
       "    </tr>\n",
       "  </tbody>\n",
       "</table>\n",
       "</div>"
      ],
      "text/plain": [
       "                     count  day_of_week  hour\n",
       "login_time                                   \n",
       "1970-01-01 20:00:00      2            3    20\n",
       "1970-01-01 20:15:00      6            3    20\n",
       "1970-01-01 20:30:00      9            3    20\n",
       "1970-01-01 20:45:00      7            3    20\n",
       "1970-01-01 21:00:00      1            3    21"
      ]
     },
     "execution_count": 54,
     "metadata": {},
     "output_type": "execute_result"
    }
   ],
   "source": [
    "#Aggregate these login counts based on 15 minute time intervals\n",
    "df_logins_count = df_logins.groupby(pd.Grouper(key='login_time', freq='900s')).count()\n",
    "df_logins_count['day_of_week'] = (pd.DatetimeIndex(df_logins_count.index).dayofweek)\n",
    "df_logins_count['hour'] = (pd.DatetimeIndex(df_logins_count.index).hour)\n",
    "df_logins_count.head()"
   ]
  },
  {
   "cell_type": "code",
   "execution_count": 55,
   "metadata": {},
   "outputs": [
    {
     "data": {
      "text/plain": [
       "[<matplotlib.lines.Line2D at 0x1227e4c88>]"
      ]
     },
     "execution_count": 55,
     "metadata": {},
     "output_type": "execute_result"
    },
    {
     "data": {
      "image/png": "[encoded data removed]",
      "text/plain": [
       "<Figure size 432x288 with 1 Axes>"
      ]
     },
     "metadata": {
      "needs_background": "light"
     },
     "output_type": "display_data"
    }
   ],
   "source": [
    "from matplotlib.dates import date2num\n",
    "plt.plot_date(date2num(list(df_logins_count.index)), df_logins_count[\"count\"].values)"
   ]
  },
  {
   "cell_type": "code",
   "execution_count": 56,
   "metadata": {},
   "outputs": [
    {
     "data": {
      "text/html": [
       "<div>\n",
       "<style scoped>\n",
       "    .dataframe tbody tr th:only-of-type {\n",
       "        vertical-align: middle;\n",
       "    }\n",
       "\n",
       "    .dataframe tbody tr th {\n",
       "        vertical-align: top;\n",
       "    }\n",
       "\n",
       "    .dataframe thead th {\n",
       "        text-align: right;\n",
       "    }\n",
       "</style>\n",
       "<table border=\"1\" class=\"dataframe\">\n",
       "  <thead>\n",
       "    <tr style=\"text-align: right;\">\n",
       "      <th></th>\n",
       "      <th>count</th>\n",
       "      <th>day_of_week</th>\n",
       "      <th>hour</th>\n",
       "    </tr>\n",
       "    <tr>\n",
       "      <th>login_time</th>\n",
       "      <th></th>\n",
       "      <th></th>\n",
       "      <th></th>\n",
       "    </tr>\n",
       "  </thead>\n",
       "  <tbody>\n",
       "    <tr>\n",
       "      <th>1970-01-01 20:00:00</th>\n",
       "      <td>2</td>\n",
       "      <td>3</td>\n",
       "      <td>20</td>\n",
       "    </tr>\n",
       "    <tr>\n",
       "      <th>1970-01-01 20:15:00</th>\n",
       "      <td>6</td>\n",
       "      <td>3</td>\n",
       "      <td>20</td>\n",
       "    </tr>\n",
       "    <tr>\n",
       "      <th>1970-01-01 20:30:00</th>\n",
       "      <td>9</td>\n",
       "      <td>3</td>\n",
       "      <td>20</td>\n",
       "    </tr>\n",
       "    <tr>\n",
       "      <th>1970-01-01 20:45:00</th>\n",
       "      <td>7</td>\n",
       "      <td>3</td>\n",
       "      <td>20</td>\n",
       "    </tr>\n",
       "    <tr>\n",
       "      <th>1970-01-01 21:00:00</th>\n",
       "      <td>1</td>\n",
       "      <td>3</td>\n",
       "      <td>21</td>\n",
       "    </tr>\n",
       "  </tbody>\n",
       "</table>\n",
       "</div>"
      ],
      "text/plain": [
       "                     count  day_of_week  hour\n",
       "login_time                                   \n",
       "1970-01-01 20:00:00      2            3    20\n",
       "1970-01-01 20:15:00      6            3    20\n",
       "1970-01-01 20:30:00      9            3    20\n",
       "1970-01-01 20:45:00      7            3    20\n",
       "1970-01-01 21:00:00      1            3    21"
      ]
     },
     "execution_count": 56,
     "metadata": {},
     "output_type": "execute_result"
    }
   ],
   "source": [
    "\n",
    "df_logins = df_logins.groupby(pd.Grouper(key='login_time', freq='900s')).count()\n",
    "df_logins['day_of_week'] = (pd.DatetimeIndex(df_logins.index).dayofweek)\n",
    "df_logins['hour'] = (pd.DatetimeIndex(df_logins.index).hour)\n",
    "df_logins.head()\n",
    "#dt.day_name()\n",
    "#df['Day_of_Week'] = pd.to_datetime(df['Date']).dt.weekday_name"
   ]
  },
  {
   "cell_type": "code",
   "execution_count": 57,
   "metadata": {},
   "outputs": [
    {
     "data": {
      "image/png": "[encoded data removed]",
      "text/plain": [
       "<Figure size 432x288 with 1 Axes>"
      ]
     },
     "metadata": {
      "needs_background": "light"
     },
     "output_type": "display_data"
    }
   ],
   "source": [
    "df_logins.resample('15T').sum().plot()\n",
    "plt.show()"
   ]
  },
  {
   "cell_type": "code",
   "execution_count": 58,
   "metadata": {},
   "outputs": [
    {
     "data": {
      "text/plain": [
       "5    104\n",
       "6    103\n",
       "4     48\n",
       "3     15\n",
       "2      7\n",
       "1      7\n",
       "0      2\n",
       "Name: day_of_week, dtype: int64"
      ]
     },
     "execution_count": 58,
     "metadata": {},
     "output_type": "execute_result"
    }
   ],
   "source": [
    "df_logins_count[\"day_of_week\"][df_logins_count[\"count\"] > 30].value_counts()"
   ]
  },
  {
   "cell_type": "code",
   "execution_count": 59,
   "metadata": {},
   "outputs": [
    {
     "data": {
      "text/plain": [
       "5    310\n",
       "6    258\n",
       "4    169\n",
       "3     92\n",
       "2     64\n",
       "1     56\n",
       "0     30\n",
       "Name: day_of_week, dtype: int64"
      ]
     },
     "execution_count": 59,
     "metadata": {},
     "output_type": "execute_result"
    }
   ],
   "source": [
    "df_logins_count[\"day_of_week\"][df_logins_count[\"count\"] > 20].value_counts()"
   ]
  },
  {
   "cell_type": "markdown",
   "metadata": {},
   "source": [
    "Weekends are high"
   ]
  },
  {
   "cell_type": "code",
   "execution_count": 60,
   "metadata": {},
   "outputs": [
    {
     "data": {
      "image/png": "[encoded data removed]",
      "text/plain": [
       "<Figure size 432x288 with 4 Axes>"
      ]
     },
     "metadata": {
      "needs_background": "light"
     },
     "output_type": "display_data"
    }
   ],
   "source": [
    "\n",
    "decomposition = sm.tsa.seasonal_decompose(df_logins.resample('12H').sum())\n",
    "decomposition.plot()\n",
    "plt.show()"
   ]
  },
  {
   "cell_type": "code",
   "execution_count": 61,
   "metadata": {},
   "outputs": [
    {
     "data": {
      "image/png": "[encoded data removed]",
      "text/plain": [
       "<Figure size 432x288 with 4 Axes>"
      ]
     },
     "metadata": {
      "needs_background": "light"
     },
     "output_type": "display_data"
    }
   ],
   "source": [
    "decomposition = sm.tsa.seasonal_decompose(df_logins.resample('24H').sum())\n",
    "decomposition.plot()\n",
    "plt.show()"
   ]
  },
  {
   "cell_type": "markdown",
   "metadata": {},
   "source": [
    "# Predictive modeling"
   ]
  },
  {
   "cell_type": "code",
   "execution_count": 62,
   "metadata": {},
   "outputs": [
    {
     "data": {
      "text/html": [
       "<div>\n",
       "<style scoped>\n",
       "    .dataframe tbody tr th:only-of-type {\n",
       "        vertical-align: middle;\n",
       "    }\n",
       "\n",
       "    .dataframe tbody tr th {\n",
       "        vertical-align: top;\n",
       "    }\n",
       "\n",
       "    .dataframe thead th {\n",
       "        text-align: right;\n",
       "    }\n",
       "</style>\n",
       "<table border=\"1\" class=\"dataframe\">\n",
       "  <thead>\n",
       "    <tr style=\"text-align: right;\">\n",
       "      <th></th>\n",
       "      <th>avg_dist</th>\n",
       "      <th>avg_rating_by_driver</th>\n",
       "      <th>avg_rating_of_driver</th>\n",
       "      <th>avg_surge</th>\n",
       "      <th>city</th>\n",
       "      <th>last_trip_date</th>\n",
       "      <th>phone</th>\n",
       "      <th>signup_date</th>\n",
       "      <th>surge_pct</th>\n",
       "      <th>trips_in_first_30_days</th>\n",
       "      <th>ultimate_black_user</th>\n",
       "      <th>weekday_pct</th>\n",
       "    </tr>\n",
       "  </thead>\n",
       "  <tbody>\n",
       "    <tr>\n",
       "      <th>0</th>\n",
       "      <td>3.67</td>\n",
       "      <td>5.0</td>\n",
       "      <td>4.7</td>\n",
       "      <td>1.10</td>\n",
       "      <td>King's Landing</td>\n",
       "      <td>2014-06-17</td>\n",
       "      <td>iPhone</td>\n",
       "      <td>2014-01-25</td>\n",
       "      <td>15.4</td>\n",
       "      <td>4</td>\n",
       "      <td>True</td>\n",
       "      <td>46.2</td>\n",
       "    </tr>\n",
       "    <tr>\n",
       "      <th>1</th>\n",
       "      <td>8.26</td>\n",
       "      <td>5.0</td>\n",
       "      <td>5.0</td>\n",
       "      <td>1.00</td>\n",
       "      <td>Astapor</td>\n",
       "      <td>2014-05-05</td>\n",
       "      <td>Android</td>\n",
       "      <td>2014-01-29</td>\n",
       "      <td>0.0</td>\n",
       "      <td>0</td>\n",
       "      <td>False</td>\n",
       "      <td>50.0</td>\n",
       "    </tr>\n",
       "    <tr>\n",
       "      <th>2</th>\n",
       "      <td>0.77</td>\n",
       "      <td>5.0</td>\n",
       "      <td>4.3</td>\n",
       "      <td>1.00</td>\n",
       "      <td>Astapor</td>\n",
       "      <td>2014-01-07</td>\n",
       "      <td>iPhone</td>\n",
       "      <td>2014-01-06</td>\n",
       "      <td>0.0</td>\n",
       "      <td>3</td>\n",
       "      <td>False</td>\n",
       "      <td>100.0</td>\n",
       "    </tr>\n",
       "    <tr>\n",
       "      <th>3</th>\n",
       "      <td>2.36</td>\n",
       "      <td>4.9</td>\n",
       "      <td>4.6</td>\n",
       "      <td>1.14</td>\n",
       "      <td>King's Landing</td>\n",
       "      <td>2014-06-29</td>\n",
       "      <td>iPhone</td>\n",
       "      <td>2014-01-10</td>\n",
       "      <td>20.0</td>\n",
       "      <td>9</td>\n",
       "      <td>True</td>\n",
       "      <td>80.0</td>\n",
       "    </tr>\n",
       "    <tr>\n",
       "      <th>4</th>\n",
       "      <td>3.13</td>\n",
       "      <td>4.9</td>\n",
       "      <td>4.4</td>\n",
       "      <td>1.19</td>\n",
       "      <td>Winterfell</td>\n",
       "      <td>2014-03-15</td>\n",
       "      <td>Android</td>\n",
       "      <td>2014-01-27</td>\n",
       "      <td>11.8</td>\n",
       "      <td>14</td>\n",
       "      <td>False</td>\n",
       "      <td>82.4</td>\n",
       "    </tr>\n",
       "  </tbody>\n",
       "</table>\n",
       "</div>"
      ],
      "text/plain": [
       "   avg_dist  avg_rating_by_driver  avg_rating_of_driver  avg_surge  \\\n",
       "0      3.67                   5.0                   4.7       1.10   \n",
       "1      8.26                   5.0                   5.0       1.00   \n",
       "2      0.77                   5.0                   4.3       1.00   \n",
       "3      2.36                   4.9                   4.6       1.14   \n",
       "4      3.13                   4.9                   4.4       1.19   \n",
       "\n",
       "             city last_trip_date    phone signup_date  surge_pct  \\\n",
       "0  King's Landing     2014-06-17   iPhone  2014-01-25       15.4   \n",
       "1         Astapor     2014-05-05  Android  2014-01-29        0.0   \n",
       "2         Astapor     2014-01-07   iPhone  2014-01-06        0.0   \n",
       "3  King's Landing     2014-06-29   iPhone  2014-01-10       20.0   \n",
       "4      Winterfell     2014-03-15  Android  2014-01-27       11.8   \n",
       "\n",
       "   trips_in_first_30_days  ultimate_black_user  weekday_pct  \n",
       "0                       4                 True         46.2  \n",
       "1                       0                False         50.0  \n",
       "2                       3                False        100.0  \n",
       "3                       9                 True         80.0  \n",
       "4                      14                False         82.4  "
      ]
     },
     "execution_count": 62,
     "metadata": {},
     "output_type": "execute_result"
    }
   ],
   "source": [
    "with open(\"ultimate_data_challenge.json\") as f:\n",
    "    df_ult = json.load(f)\n",
    "\n",
    "Ult_data = pd.DataFrame(df_ult)\n",
    "Ult_data.head()"
   ]
  },
  {
   "cell_type": "code",
   "execution_count": 63,
   "metadata": {},
   "outputs": [
    {
     "data": {
      "text/plain": [
       "(50000, 12)"
      ]
     },
     "execution_count": 63,
     "metadata": {},
     "output_type": "execute_result"
    }
   ],
   "source": [
    "Ult_data.shape"
   ]
  },
  {
   "cell_type": "code",
   "execution_count": 64,
   "metadata": {},
   "outputs": [
    {
     "data": {
      "text/plain": [
       "<bound method DataFrame.info of        avg_dist  avg_rating_by_driver  avg_rating_of_driver  avg_surge  \\\n",
       "0          3.67                   5.0                   4.7       1.10   \n",
       "1          8.26                   5.0                   5.0       1.00   \n",
       "2          0.77                   5.0                   4.3       1.00   \n",
       "3          2.36                   4.9                   4.6       1.14   \n",
       "4          3.13                   4.9                   4.4       1.19   \n",
       "5         10.56                   5.0                   3.5       1.00   \n",
       "6          3.95                   4.0                   NaN       1.00   \n",
       "7          2.04                   5.0                   5.0       1.00   \n",
       "8          4.36                   5.0                   4.5       1.00   \n",
       "9          2.37                   5.0                   NaN       1.00   \n",
       "10         4.28                   4.9                   5.0       1.00   \n",
       "11         3.81                   5.0                   4.0       1.00   \n",
       "12        20.29                   5.0                   NaN       1.00   \n",
       "13         3.04                   5.0                   4.0       1.38   \n",
       "14        26.01                   5.0                   NaN       1.00   \n",
       "15        13.20                   5.0                   NaN       1.00   \n",
       "16        10.86                   3.0                   5.0       1.00   \n",
       "17         2.38                   4.8                   3.9       1.00   \n",
       "18         6.83                   4.8                   4.6       1.21   \n",
       "19        12.08                   5.0                   5.0       1.17   \n",
       "20         2.53                   3.0                   NaN       1.00   \n",
       "21         3.31                   5.0                   NaN       1.00   \n",
       "22        11.47                   5.0                   NaN       1.00   \n",
       "23         7.74                   5.0                   5.0       1.00   \n",
       "24         2.10                   4.7                   4.5       1.02   \n",
       "25        14.48                   5.0                   NaN       1.00   \n",
       "26         1.66                   5.0                   4.0       1.00   \n",
       "27         3.05                   5.0                   5.0       1.05   \n",
       "28         5.97                   5.0                   NaN       1.50   \n",
       "29        11.25                   5.0                   4.0       1.00   \n",
       "...         ...                   ...                   ...        ...   \n",
       "49970      5.62                   5.0                   4.3       1.00   \n",
       "49971      4.69                   5.0                   NaN       1.00   \n",
       "49972      4.60                   3.5                   4.0       1.25   \n",
       "49973      4.07                   5.0                   4.0       1.00   \n",
       "49974      4.63                   5.0                   5.0       2.00   \n",
       "49975      2.18                   4.8                   3.9       1.03   \n",
       "49976      2.39                   4.0                   2.0       1.00   \n",
       "49977      8.71                   5.0                   5.0       1.00   \n",
       "49978      6.02                   5.0                   4.5       1.00   \n",
       "49979      3.81                   4.8                   4.0       1.00   \n",
       "49980     14.42                   5.0                   NaN       1.00   \n",
       "49981      5.49                   5.0                   4.0       1.00   \n",
       "49982     15.23                   5.0                   5.0       1.00   \n",
       "49983     30.39                   5.0                   1.0       1.00   \n",
       "49984      3.50                   5.0                   NaN       1.00   \n",
       "49985      1.38                   5.0                   NaN       1.00   \n",
       "49986      0.52                   5.0                   4.0       1.00   \n",
       "49987      4.24                   4.0                   4.6       1.00   \n",
       "49988      2.53                   5.0                   4.5       1.00   \n",
       "49989      0.00                   5.0                   NaN       1.00   \n",
       "49990      3.38                   5.0                   4.7       1.08   \n",
       "49991      1.06                   5.0                   5.0       1.25   \n",
       "49992      7.58                   5.0                   1.0       1.00   \n",
       "49993      2.53                   4.7                   4.8       1.11   \n",
       "49994      2.25                   4.5                   4.6       1.44   \n",
       "49995      5.63                   4.2                   5.0       1.00   \n",
       "49996      0.00                   4.0                   NaN       1.00   \n",
       "49997      3.86                   5.0                   5.0       1.00   \n",
       "49998      4.58                   3.5                   3.0       1.00   \n",
       "49999      3.49                   5.0                   NaN       1.00   \n",
       "\n",
       "                 city last_trip_date    phone signup_date  surge_pct  \\\n",
       "0      King's Landing     2014-06-17   iPhone  2014-01-25       15.4   \n",
       "1             Astapor     2014-05-05  Android  2014-01-29        0.0   \n",
       "2             Astapor     2014-01-07   iPhone  2014-01-06        0.0   \n",
       "3      King's Landing     2014-06-29   iPhone  2014-01-10       20.0   \n",
       "4          Winterfell     2014-03-15  Android  2014-01-27       11.8   \n",
       "5          Winterfell     2014-06-06   iPhone  2014-01-09        0.0   \n",
       "6             Astapor     2014-01-25  Android  2014-01-24        0.0   \n",
       "7          Winterfell     2014-01-29   iPhone  2014-01-28        0.0   \n",
       "8          Winterfell     2014-02-01  Android  2014-01-21        0.0   \n",
       "9          Winterfell     2014-01-05  Android  2014-01-03        0.0   \n",
       "10         Winterfell     2014-05-30   iPhone  2014-01-13        0.0   \n",
       "11         Winterfell     2014-01-10   iPhone  2014-01-06        0.0   \n",
       "12         Winterfell     2014-03-12   iPhone  2014-01-15        0.0   \n",
       "13     King's Landing     2014-06-08   iPhone  2014-01-29       50.0   \n",
       "14            Astapor     2014-01-28  Android  2014-01-27        0.0   \n",
       "15         Winterfell     2014-01-16  Android  2014-01-15        0.0   \n",
       "16     King's Landing     2014-06-28  Android  2014-01-11        0.0   \n",
       "17     King's Landing     2014-07-01   iPhone  2014-01-12        0.0   \n",
       "18     King's Landing     2014-06-24   iPhone  2014-01-28       30.8   \n",
       "19     King's Landing     2014-06-03   iPhone  2014-01-02       33.3   \n",
       "20         Winterfell     2014-03-16  Android  2014-01-31        0.0   \n",
       "21            Astapor     2014-04-29   iPhone  2014-01-09        0.0   \n",
       "22         Winterfell     2014-05-02   iPhone  2014-01-24        0.0   \n",
       "23     King's Landing     2014-06-13  Android  2014-01-21        0.0   \n",
       "24            Astapor     2014-05-18   iPhone  2014-01-19        9.1   \n",
       "25         Winterfell     2014-01-03   iPhone  2014-01-02        0.0   \n",
       "26            Astapor     2014-01-22  Android  2014-01-16        0.0   \n",
       "27         Winterfell     2014-03-05   iPhone  2014-01-19       20.0   \n",
       "28         Winterfell     2014-06-08   iPhone  2014-01-19      100.0   \n",
       "29            Astapor     2014-02-27  Android  2014-01-27        0.0   \n",
       "...               ...            ...      ...         ...        ...   \n",
       "49970      Winterfell     2014-04-14   iPhone  2014-01-16        0.0   \n",
       "49971  King's Landing     2014-06-14   iPhone  2014-01-12        0.0   \n",
       "49972      Winterfell     2014-06-29   iPhone  2014-01-12       50.0   \n",
       "49973         Astapor     2014-06-28   iPhone  2014-01-01        0.0   \n",
       "49974      Winterfell     2014-01-18   iPhone  2014-01-05      100.0   \n",
       "49975      Winterfell     2014-06-18   iPhone  2014-01-11        4.1   \n",
       "49976  King's Landing     2014-07-01   iPhone  2014-01-21        0.0   \n",
       "49977         Astapor     2014-01-09  Android  2014-01-06        0.0   \n",
       "49978      Winterfell     2014-05-03  Android  2014-01-17        0.0   \n",
       "49979      Winterfell     2014-04-07  Android  2014-01-24        0.0   \n",
       "49980         Astapor     2014-01-20  Android  2014-01-05        0.0   \n",
       "49981         Astapor     2014-03-16   iPhone  2014-01-26        0.0   \n",
       "49982  King's Landing     2014-04-24   iPhone  2014-01-21        0.0   \n",
       "49983      Winterfell     2014-02-26  Android  2014-01-27        0.0   \n",
       "49984      Winterfell     2014-01-26  Android  2014-01-26        0.0   \n",
       "49985         Astapor     2014-02-25  Android  2014-01-26        0.0   \n",
       "49986      Winterfell     2014-05-23  Android  2014-01-21        0.0   \n",
       "49987      Winterfell     2014-05-31   iPhone  2014-01-27        0.0   \n",
       "49988  King's Landing     2014-06-14   iPhone  2014-01-20        0.0   \n",
       "49989      Winterfell     2014-01-31   iPhone  2014-01-24        0.0   \n",
       "49990         Astapor     2014-05-18   iPhone  2014-01-13       33.3   \n",
       "49991      Winterfell     2014-06-29   iPhone  2014-01-08      100.0   \n",
       "49992  King's Landing     2014-01-19   iPhone  2014-01-18        0.0   \n",
       "49993         Astapor     2014-07-01   iPhone  2014-01-03       11.1   \n",
       "49994         Astapor     2014-05-31   iPhone  2014-01-03       37.5   \n",
       "49995  King's Landing     2014-06-05   iPhone  2014-01-25        0.0   \n",
       "49996         Astapor     2014-01-25   iPhone  2014-01-24        0.0   \n",
       "49997      Winterfell     2014-05-22  Android  2014-01-31        0.0   \n",
       "49998         Astapor     2014-01-15   iPhone  2014-01-14        0.0   \n",
       "49999         Astapor     2014-04-20  Android  2014-01-18        0.0   \n",
       "\n",
       "       trips_in_first_30_days  ultimate_black_user  weekday_pct  \n",
       "0                           4                 True         46.2  \n",
       "1                           0                False         50.0  \n",
       "2                           3                False        100.0  \n",
       "3                           9                 True         80.0  \n",
       "4                          14                False         82.4  \n",
       "5                           2                 True        100.0  \n",
       "6                           1                False        100.0  \n",
       "7                           2                False        100.0  \n",
       "8                           2                False        100.0  \n",
       "9                           1                False          0.0  \n",
       "10                          1                 True        100.0  \n",
       "11                          3                False        100.0  \n",
       "12                          1                False        100.0  \n",
       "13                          0                False         50.0  \n",
       "14                          1                False        100.0  \n",
       "15                          1                 True        100.0  \n",
       "16                          1                 True         50.0  \n",
       "17                          0                 True         95.2  \n",
       "18                          6                 True         80.8  \n",
       "19                          0                False         66.7  \n",
       "20                          1                False         50.0  \n",
       "21                          1                False        100.0  \n",
       "22                          0                False        100.0  \n",
       "23                          0                 True        100.0  \n",
       "24                          4                False         36.4  \n",
       "25                          1                 True        100.0  \n",
       "26                          1                False        100.0  \n",
       "27                          3                False        100.0  \n",
       "28                          0                False          0.0  \n",
       "29                          1                False        100.0  \n",
       "...                       ...                  ...          ...  \n",
       "49970                       2                False          0.0  \n",
       "49971                       0                 True        100.0  \n",
       "49972                       1                False          0.0  \n",
       "49973                       2                 True         25.0  \n",
       "49974                       1                False        100.0  \n",
       "49975                      11                False         91.8  \n",
       "49976                       0                False        100.0  \n",
       "49977                       4                False        100.0  \n",
       "49978                       1                False         50.0  \n",
       "49979                       0                 True         50.0  \n",
       "49980                       1                False        100.0  \n",
       "49981                       0                 True          0.0  \n",
       "49982                       0                False        100.0  \n",
       "49983                       1                False        100.0  \n",
       "49984                       1                False          0.0  \n",
       "49985                       1                False        100.0  \n",
       "49986                       0                False        100.0  \n",
       "49987                       3                False         80.0  \n",
       "49988                       1                False         50.0  \n",
       "49989                       1                False        100.0  \n",
       "49990                       1                 True         33.3  \n",
       "49991                       0                False          0.0  \n",
       "49992                       1                False          0.0  \n",
       "49993                       3                 True         55.6  \n",
       "49994                       1                False         25.0  \n",
       "49995                       0                False        100.0  \n",
       "49996                       1                False          0.0  \n",
       "49997                       0                 True        100.0  \n",
       "49998                       2                False        100.0  \n",
       "49999                       0                False          0.0  \n",
       "\n",
       "[50000 rows x 12 columns]>"
      ]
     },
     "execution_count": 64,
     "metadata": {},
     "output_type": "execute_result"
    }
   ],
   "source": [
    "Ult_data.info"
   ]
  },
  {
   "cell_type": "code",
   "execution_count": 65,
   "metadata": {},
   "outputs": [
    {
     "name": "stdout",
     "output_type": "stream",
     "text": [
      "avg_dist                     0\n",
      "avg_rating_by_driver       201\n",
      "avg_rating_of_driver      8122\n",
      "avg_surge                    0\n",
      "city                         0\n",
      "last_trip_date               0\n",
      "phone                      396\n",
      "signup_date                  0\n",
      "surge_pct                    0\n",
      "trips_in_first_30_days       0\n",
      "ultimate_black_user          0\n",
      "weekday_pct                  0\n",
      "dtype: int64\n"
     ]
    }
   ],
   "source": [
    "# Missing values\n",
    "\n",
    "missing_val_count_by_column = (Ult_data.isnull().sum())\n",
    "print(missing_val_count_by_column)\n",
    "\n"
   ]
  },
  {
   "cell_type": "code",
   "execution_count": 66,
   "metadata": {},
   "outputs": [],
   "source": [
    "#Removing missing values \n",
    "Ult_data.dropna(inplace = True)"
   ]
  },
  {
   "cell_type": "code",
   "execution_count": 67,
   "metadata": {},
   "outputs": [
    {
     "name": "stdout",
     "output_type": "stream",
     "text": [
      "avg_dist                  0\n",
      "avg_rating_by_driver      0\n",
      "avg_rating_of_driver      0\n",
      "avg_surge                 0\n",
      "city                      0\n",
      "last_trip_date            0\n",
      "phone                     0\n",
      "signup_date               0\n",
      "surge_pct                 0\n",
      "trips_in_first_30_days    0\n",
      "ultimate_black_user       0\n",
      "weekday_pct               0\n",
      "dtype: int64\n",
      "shape of dataframe (41445, 12)\n"
     ]
    }
   ],
   "source": [
    "missing_val_count_by_column = (Ult_data.isnull().sum())\n",
    "print(missing_val_count_by_column)\n",
    "\n",
    "print('shape of dataframe {}'.format(Ult_data.shape))"
   ]
  },
  {
   "cell_type": "code",
   "execution_count": 68,
   "metadata": {},
   "outputs": [
    {
     "data": {
      "text/html": [
       "<div>\n",
       "<style scoped>\n",
       "    .dataframe tbody tr th:only-of-type {\n",
       "        vertical-align: middle;\n",
       "    }\n",
       "\n",
       "    .dataframe tbody tr th {\n",
       "        vertical-align: top;\n",
       "    }\n",
       "\n",
       "    .dataframe thead th {\n",
       "        text-align: right;\n",
       "    }\n",
       "</style>\n",
       "<table border=\"1\" class=\"dataframe\">\n",
       "  <thead>\n",
       "    <tr style=\"text-align: right;\">\n",
       "      <th></th>\n",
       "      <th>avg_dist</th>\n",
       "      <th>avg_rating_by_driver</th>\n",
       "      <th>avg_rating_of_driver</th>\n",
       "      <th>avg_surge</th>\n",
       "      <th>city</th>\n",
       "      <th>last_trip_date</th>\n",
       "      <th>phone</th>\n",
       "      <th>signup_date</th>\n",
       "      <th>surge_pct</th>\n",
       "      <th>trips_in_first_30_days</th>\n",
       "      <th>ultimate_black_user</th>\n",
       "      <th>weekday_pct</th>\n",
       "      <th>active_Users</th>\n",
       "    </tr>\n",
       "  </thead>\n",
       "  <tbody>\n",
       "    <tr>\n",
       "      <th>0</th>\n",
       "      <td>3.67</td>\n",
       "      <td>5.0</td>\n",
       "      <td>4.7</td>\n",
       "      <td>1.10</td>\n",
       "      <td>King's Landing</td>\n",
       "      <td>2014-06-17</td>\n",
       "      <td>iPhone</td>\n",
       "      <td>2014-01-25</td>\n",
       "      <td>15.4</td>\n",
       "      <td>4</td>\n",
       "      <td>True</td>\n",
       "      <td>46.2</td>\n",
       "      <td>0</td>\n",
       "    </tr>\n",
       "    <tr>\n",
       "      <th>1</th>\n",
       "      <td>8.26</td>\n",
       "      <td>5.0</td>\n",
       "      <td>5.0</td>\n",
       "      <td>1.00</td>\n",
       "      <td>Astapor</td>\n",
       "      <td>2014-05-05</td>\n",
       "      <td>Android</td>\n",
       "      <td>2014-01-29</td>\n",
       "      <td>0.0</td>\n",
       "      <td>0</td>\n",
       "      <td>False</td>\n",
       "      <td>50.0</td>\n",
       "      <td>1</td>\n",
       "    </tr>\n",
       "    <tr>\n",
       "      <th>2</th>\n",
       "      <td>0.77</td>\n",
       "      <td>5.0</td>\n",
       "      <td>4.3</td>\n",
       "      <td>1.00</td>\n",
       "      <td>Astapor</td>\n",
       "      <td>2014-01-07</td>\n",
       "      <td>iPhone</td>\n",
       "      <td>2014-01-06</td>\n",
       "      <td>0.0</td>\n",
       "      <td>3</td>\n",
       "      <td>False</td>\n",
       "      <td>100.0</td>\n",
       "      <td>1</td>\n",
       "    </tr>\n",
       "    <tr>\n",
       "      <th>3</th>\n",
       "      <td>2.36</td>\n",
       "      <td>4.9</td>\n",
       "      <td>4.6</td>\n",
       "      <td>1.14</td>\n",
       "      <td>King's Landing</td>\n",
       "      <td>2014-06-29</td>\n",
       "      <td>iPhone</td>\n",
       "      <td>2014-01-10</td>\n",
       "      <td>20.0</td>\n",
       "      <td>9</td>\n",
       "      <td>True</td>\n",
       "      <td>80.0</td>\n",
       "      <td>0</td>\n",
       "    </tr>\n",
       "    <tr>\n",
       "      <th>4</th>\n",
       "      <td>3.13</td>\n",
       "      <td>4.9</td>\n",
       "      <td>4.4</td>\n",
       "      <td>1.19</td>\n",
       "      <td>Winterfell</td>\n",
       "      <td>2014-03-15</td>\n",
       "      <td>Android</td>\n",
       "      <td>2014-01-27</td>\n",
       "      <td>11.8</td>\n",
       "      <td>14</td>\n",
       "      <td>False</td>\n",
       "      <td>82.4</td>\n",
       "      <td>1</td>\n",
       "    </tr>\n",
       "  </tbody>\n",
       "</table>\n",
       "</div>"
      ],
      "text/plain": [
       "   avg_dist  avg_rating_by_driver  avg_rating_of_driver  avg_surge  \\\n",
       "0      3.67                   5.0                   4.7       1.10   \n",
       "1      8.26                   5.0                   5.0       1.00   \n",
       "2      0.77                   5.0                   4.3       1.00   \n",
       "3      2.36                   4.9                   4.6       1.14   \n",
       "4      3.13                   4.9                   4.4       1.19   \n",
       "\n",
       "             city last_trip_date    phone signup_date  surge_pct  \\\n",
       "0  King's Landing     2014-06-17   iPhone  2014-01-25       15.4   \n",
       "1         Astapor     2014-05-05  Android  2014-01-29        0.0   \n",
       "2         Astapor     2014-01-07   iPhone  2014-01-06        0.0   \n",
       "3  King's Landing     2014-06-29   iPhone  2014-01-10       20.0   \n",
       "4      Winterfell     2014-03-15  Android  2014-01-27       11.8   \n",
       "\n",
       "   trips_in_first_30_days  ultimate_black_user  weekday_pct  active_Users  \n",
       "0                       4                 True         46.2             0  \n",
       "1                       0                False         50.0             1  \n",
       "2                       3                False        100.0             1  \n",
       "3                       9                 True         80.0             0  \n",
       "4                      14                False         82.4             1  "
      ]
     },
     "execution_count": 68,
     "metadata": {},
     "output_type": "execute_result"
    }
   ],
   "source": [
    "# Active users\n",
    "\n",
    "Ult_data['active_Users'] = (pd.to_datetime(Ult_data[\"last_trip_date\"]) < pd.to_datetime(max(Ult_data[\"last_trip_date\"])) - pd.Timedelta(\"30 days\")) + 0\n",
    "Ult_data.head()"
   ]
  },
  {
   "cell_type": "code",
   "execution_count": 69,
   "metadata": {},
   "outputs": [],
   "source": [
    "#tt = pd.to_datetime(Ult_data[\"last_trip_date\"]"
   ]
  },
  {
   "cell_type": "code",
   "execution_count": 70,
   "metadata": {},
   "outputs": [
    {
     "data": {
      "text/plain": [
       "1    24410\n",
       "0    17035\n",
       "Name: last_trip_date, dtype: int64"
      ]
     },
     "execution_count": 70,
     "metadata": {},
     "output_type": "execute_result"
    }
   ],
   "source": [
    "active_Users = (pd.to_datetime(Ult_data[\"last_trip_date\"]) < pd.to_datetime(max(Ult_data[\"last_trip_date\"])) - pd.Timedelta(\"30 days\")) + 0\n",
    "active_Users.value_counts()"
   ]
  },
  {
   "cell_type": "code",
   "execution_count": null,
   "metadata": {},
   "outputs": [],
   "source": []
  },
  {
   "cell_type": "code",
   "execution_count": 71,
   "metadata": {},
   "outputs": [
    {
     "name": "stdout",
     "output_type": "stream",
     "text": [
      "Retained user percentage 41.0\n"
     ]
    }
   ],
   "source": [
    "#Retained user percentage\n",
    "\n",
    "actpercent = active_Users.value_counts()[0]/len(active_Users)  * 100\n",
    "print('Retained user percentage {}'.format(round(actpercent)))"
   ]
  },
  {
   "cell_type": "code",
   "execution_count": 72,
   "metadata": {},
   "outputs": [],
   "source": [
    "df_dummies = pd.get_dummies(Ult_data)\n",
    "#df_dummies.head()\n",
    "y = df_dummies['active_Users'].values\n",
    "X = df_dummies.drop(columns = ['active_Users'])"
   ]
  },
  {
   "cell_type": "code",
   "execution_count": 73,
   "metadata": {},
   "outputs": [],
   "source": [
    "from sklearn.model_selection import train_test_split\n",
    "from sklearn.linear_model import LogisticRegression\n",
    "from sklearn.metrics import confusion_matrix,accuracy_score,classification_report\n",
    "from sklearn.metrics import roc_auc_score,roc_curve,scorer\n",
    "import warnings\n",
    "warnings.filterwarnings(\"ignore\")\n",
    "from sklearn.ensemble import RandomForestClassifier\n",
    "from sklearn import metrics\n",
    "from sklearn import ensemble\n",
    "from sklearn.metrics import mean_squared_error\n",
    "from sklearn import svm"
   ]
  },
  {
   "cell_type": "code",
   "execution_count": 74,
   "metadata": {},
   "outputs": [],
   "source": [
    "X_train, X_test, y_train, y_test = train_test_split(X, y, random_state=10)"
   ]
  },
  {
   "cell_type": "code",
   "execution_count": 75,
   "metadata": {},
   "outputs": [
    {
     "name": "stdout",
     "output_type": "stream",
     "text": [
      "MSE: 0.0848\n"
     ]
    }
   ],
   "source": [
    "\n",
    "params = {'n_estimators': 500, 'max_depth': 4, 'min_samples_split': 2,\n",
    "          'learning_rate': 0.01, 'loss': 'ls'}\n",
    "clf = ensemble.GradientBoostingRegressor(**params)\n",
    "clf.fit(X_train,y_train)\n",
    "y_pred=clf.predict(X_test) \n",
    "\n",
    "mse = mean_squared_error(y_test,y_pred)\n",
    "print(\"MSE: %.4f\" % mse)"
   ]
  },
  {
   "cell_type": "code",
   "execution_count": 76,
   "metadata": {},
   "outputs": [
    {
     "data": {
      "text/plain": [
       "Text(0, 0.5, 'Deviance')"
      ]
     },
     "execution_count": 76,
     "metadata": {},
     "output_type": "execute_result"
    },
    {
     "data": {
      "image/png": "[encoded data removed]",
      "text/plain": [
       "<Figure size 864x432 with 1 Axes>"
      ]
     },
     "metadata": {
      "needs_background": "light"
     },
     "output_type": "display_data"
    }
   ],
   "source": [
    "\n",
    "test_score = np.zeros((params['n_estimators'],), dtype=np.float64)\n",
    "\n",
    "for i, y_pred in enumerate(clf.staged_predict(X_test)):\n",
    "    test_score[i] = clf.loss_(y_test, y_pred)\n",
    "\n",
    "plt.figure(figsize=(12, 6))\n",
    "plt.subplot(1, 2, 1)\n",
    "plt.title('Deviance')\n",
    "plt.plot(np.arange(params['n_estimators']) + 1, clf.train_score_, 'b-',\n",
    "         label='Training Set Deviance')\n",
    "plt.plot(np.arange(params['n_estimators']) + 1, test_score, 'r-',\n",
    "         label='Test Set Deviance')\n",
    "plt.legend(loc='upper right')\n",
    "plt.xlabel('Boosting Iterations')\n",
    "plt.ylabel('Deviance')"
   ]
  },
  {
   "cell_type": "code",
   "execution_count": 77,
   "metadata": {},
   "outputs": [
    {
     "name": "stdout",
     "output_type": "stream",
     "text": [
      "Algorithm : RandomForestClassifier(bootstrap=True, class_weight=None, criterion='gini',\n",
      "            max_depth=None, max_features='auto', max_leaf_nodes=None,\n",
      "            min_impurity_decrease=0.0, min_impurity_split=None,\n",
      "            min_samples_leaf=1, min_samples_split=2,\n",
      "            min_weight_fraction_leaf=0.0, n_estimators=10, n_jobs=None,\n",
      "            oob_score=False, random_state=0, verbose=0, warm_start=False)\n",
      "\n",
      " Classification report : \n",
      "               precision    recall  f1-score   support\n",
      "\n",
      "           0       0.94      0.98      0.96      4333\n",
      "           1       0.98      0.96      0.97      6029\n",
      "\n",
      "   micro avg       0.97      0.97      0.97     10362\n",
      "   macro avg       0.96      0.97      0.97     10362\n",
      "weighted avg       0.97      0.97      0.97     10362\n",
      "\n",
      "Accuracy   Score :  0.9660297239915074\n",
      "Area under curve :  0.9674318186002825 \n",
      "\n",
      "Accuracy: 0.9660297239915074\n"
     ]
    }
   ],
   "source": [
    "#X_train, X_test, y_train, y_test = train_test_split(X, y, random_state=1)\n",
    "clf = RandomForestClassifier(random_state=0).fit(X_train, y_train)\n",
    "clf.fit(X_train,y_train)\n",
    "y_pred=clf.predict(X_test)\n",
    "\n",
    "print(\"Algorithm :\",  clf)\n",
    "print (\"\\n Classification report : \\n\",classification_report(y_test,y_pred))\n",
    "print (\"Accuracy   Score : \",accuracy_score(y_test,y_pred))\n",
    "model_roc_auc = roc_auc_score(y_test,y_pred) \n",
    "print (\"Area under curve : \",model_roc_auc,\"\\n\")\n",
    "#fpr,tpr,thresholds = roc_curve(y_test,Proba[:,1])\n",
    "print(\"Accuracy:\",metrics.accuracy_score(y_test, y_pred))"
   ]
  },
  {
   "cell_type": "code",
   "execution_count": null,
   "metadata": {},
   "outputs": [],
   "source": []
  },
  {
   "cell_type": "code",
   "execution_count": null,
   "metadata": {},
   "outputs": [],
   "source": []
  },
  {
   "cell_type": "code",
   "execution_count": null,
   "metadata": {},
   "outputs": [],
   "source": []
  },
  {
   "cell_type": "code",
   "execution_count": null,
   "metadata": {},
   "outputs": [],
   "source": []
  }
 ],
 "metadata": {
  "kernelspec": {
   "display_name": "Python 3",
   "language": "python",
   "name": "python3"
  },
  "language_info": {
   "codemirror_mode": {
    "name": "ipython",
    "version": 3
   },
   "file_extension": ".py",
   "mimetype": "text/x-python",
   "name": "python",
   "nbconvert_exporter": "python",
   "pygments_lexer": "ipython3",
   "version": "3.6.6"
  }
 },
 "nbformat": 4,
 "nbformat_minor": 2
}
